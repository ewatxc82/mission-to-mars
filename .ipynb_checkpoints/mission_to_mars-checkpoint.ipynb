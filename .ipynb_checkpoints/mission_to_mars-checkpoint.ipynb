{
 "cells": [
  {
   "cell_type": "code",
   "execution_count": 2,
   "metadata": {},
   "outputs": [],
   "source": [
    "from splinter import Browser\n",
    "from bs4 import BeautifulSoup\n",
    "from webdriver_manager.chrome import ChromeDriverManager"
   ]
  },
  {
   "cell_type": "code",
   "execution_count": 3,
   "metadata": {},
   "outputs": [
    {
     "name": "stderr",
     "output_type": "stream",
     "text": [
      "[WDM] - Current google-chrome version is 88.0.4324\n",
      "[WDM] - Get LATEST driver version for 88.0.4324\n"
     ]
    },
    {
     "name": "stdout",
     "output_type": "stream",
     "text": [
      " \n"
     ]
    },
    {
     "name": "stderr",
     "output_type": "stream",
     "text": [
      "[WDM] - Get LATEST driver version for 88.0.4324\n",
      "[WDM] - Trying to download new driver from http://chromedriver.storage.googleapis.com/88.0.4324.96/chromedriver_mac64.zip\n",
      "[WDM] - Driver has been saved in cache [/Users/erikwatson/.wdm/drivers/chromedriver/mac64/88.0.4324.96]\n"
     ]
    }
   ],
   "source": [
    "executable_path = {'executable_path': ChromeDriverManager().install()}\n",
    "browser = Browser('chrome', **executable_path, headless=False)"
   ]
  },
  {
   "cell_type": "code",
   "execution_count": 4,
   "metadata": {},
   "outputs": [],
   "source": [
    "url = \"https://mars.nasa.gov/news/\"\n",
    "browser.visit(url)"
   ]
  },
  {
   "cell_type": "code",
   "execution_count": 5,
   "metadata": {},
   "outputs": [
    {
     "data": {
      "text/plain": [
       "[<div class=\"content_title\">Mars Now</div>,\n",
       " <div class=\"content_title\"><a href=\"/news/8848/nasas-perseverance-pays-off-back-home/\" target=\"_self\">NASA's Perseverance Pays Off Back Home</a></div>,\n",
       " <div class=\"content_title\"><a href=\"/news/8846/could-the-surface-of-phobos-reveal-secrets-of-the-martian-past/\" target=\"_self\">Could the Surface of Phobos Reveal Secrets of the Martian Past?</a></div>,\n",
       " <div class=\"content_title\"><a href=\"/news/8844/nasas-maven-continues-to-advance-mars-science-and-telecommunications-relay-efforts/\" target=\"_self\">NASA's MAVEN Continues to Advance Mars Science and Telecommunications Relay Efforts</a></div>,\n",
       " <div class=\"content_title\"><a href=\"/news/8843/nasas-perseverance-rover-22-days-from-mars-landing/\" target=\"_self\">NASA's Perseverance Rover 22 Days From Mars Landing</a></div>,\n",
       " <div class=\"content_title\"><a href=\"/news/8840/6-things-to-know-about-nasas-mars-helicopter-on-its-way-to-mars/\" target=\"_self\">6 Things to Know About NASA's Mars Helicopter on Its Way to Mars</a></div>,\n",
       " <div class=\"content_title\"><a href=\"/news/8837/nasa-to-host-virtual-briefing-on-february-perseverance-mars-rover-landing/\" target=\"_self\">NASA to Host Virtual Briefing on February Perseverance Mars Rover Landing</a></div>,\n",
       " <div class=\"content_title\"><a href=\"/news/8836/nasa-insights-mole-ends-its-journey-on-mars/\" target=\"_self\">NASA InSight's ‘Mole' Ends Its Journey on Mars</a></div>,\n",
       " <div class=\"content_title\"><a href=\"/news/8834/mars-2020-perseverance-rover-to-capture-sounds-from-the-red-planet/\" target=\"_self\">Mars 2020 Perseverance Rover to Capture Sounds From the Red Planet</a></div>,\n",
       " <div class=\"content_title\"><a href=\"/news/8832/nasas-curiosity-rover-reaches-its-3000th-day-on-mars/\" target=\"_self\">NASA's Curiosity Rover Reaches Its 3,000th Day on Mars</a></div>,\n",
       " <div class=\"content_title\"><a href=\"/news/8830/celebrate-the-perseverance-rover-landing-with-nasas-student-challenge/\" target=\"_self\">Celebrate the Perseverance Rover Landing With NASA's Student Challenge</a></div>,\n",
       " <div class=\"content_title\"><a href=\"/news/8829/nasa-extends-exploration-for-two-planetary-science-missions/\" target=\"_self\">NASA Extends Exploration for Two Planetary Science Missions</a></div>,\n",
       " <div class=\"content_title\"><a href=\"/news/8826/7-things-to-know-about-the-nasa-rover-about-to-land-on-mars/\" target=\"_self\">7 Things to Know About the NASA Rover About to Land on Mars</a></div>,\n",
       " <div class=\"content_title\"><a href=\"/news/8822/a-martian-roundtrip-nasas-perseverance-rover-sample-tubes/\" target=\"_self\">A Martian Roundtrip: NASA's Perseverance Rover Sample Tubes</a></div>,\n",
       " <div class=\"content_title\"><a href=\"/news/8819/nasa-moves-forward-with-campaign-to-return-mars-samples-to-earth/\" target=\"_self\">NASA Moves Forward With Campaign to Return Mars Samples to Earth</a></div>,\n",
       " <div class=\"content_title\"><a href=\"/news/8817/3-things-weve-learned-from-nasas-mars-insight/\" target=\"_self\">3 Things We've Learned From NASA's Mars InSight </a></div>,\n",
       " <div class=\"content_title\"><a href=\"/news/8815/from-jpls-mailroom-to-mars-and-beyond/\" target=\"_self\">From JPL's Mailroom to Mars and Beyond</a></div>,\n",
       " <div class=\"content_title\"><a href=\"/news/8812/5-hidden-gems-are-riding-aboard-nasas-perseverance-rover/\" target=\"_self\">5 Hidden Gems Are Riding Aboard NASA's Perseverance Rover</a></div>,\n",
       " <div class=\"content_title\"><a href=\"/news/8805/moxie-could-help-future-rockets-launch-off-mars/\" target=\"_self\">MOXIE Could Help Future Rockets Launch Off Mars</a></div>,\n",
       " <div class=\"content_title\"><a href=\"/news/8801/hear-audio-from-nasas-perseverance-as-it-travels-through-deep-space/\" target=\"_self\">Hear Audio From NASA's Perseverance As It Travels Through Deep Space</a></div>,\n",
       " <div class=\"content_title\"><a href=\"/news/8798/mars-is-getting-a-new-robotic-meteorologist/\" target=\"_self\">Mars Is Getting a New Robotic Meteorologist</a></div>,\n",
       " <div class=\"content_title\"><a href=\"/news/8797/heat-and-dust-help-launch-martian-water-into-space-scientists-find/\" target=\"_self\">Heat and Dust Help Launch Martian Water Into Space, Scientists Find</a></div>,\n",
       " <div class=\"content_title\"><a href=\"/news/8796/nasas-curiosity-takes-selfie-with-mary-anning-on-the-red-planet/\" target=\"_self\">NASA's Curiosity Takes Selfie With 'Mary Anning' on the Red Planet</a></div>,\n",
       " <div class=\"content_title\"><a href=\"/news/8794/independent-review-indicates-nasa-prepared-for-mars-sample-return-campaign/\" target=\"_self\">Independent Review Indicates NASA Prepared for Mars Sample Return Campaign</a></div>,\n",
       " <div class=\"content_title\"><a href=\"/news/8792/nasas-perseverance-rover-100-days-out/\" target=\"_self\">NASA's Perseverance Rover 100 Days Out</a></div>,\n",
       " <div class=\"content_title\"><a href=\"/news/8785/nasas-perseverance-rover-is-midway-to-mars/\" target=\"_self\">NASA's Perseverance Rover Is Midway to Mars </a></div>,\n",
       " <div class=\"content_title\"><a href=\"/news/8782/sensors-on-mars-2020-spacecraft-answer-long-distance-call-from-earth/\" target=\"_self\">Sensors on Mars 2020 Spacecraft Answer Long-Distance Call From Earth</a></div>,\n",
       " <div class=\"content_title\"><a href=\"/news/8778/nasas-perseverance-rover-bringing-3d-printed-metal-parts-to-mars/\" target=\"_self\">NASA's Perseverance Rover Bringing 3D-Printed Metal Parts to Mars</a></div>,\n",
       " <div class=\"content_title\"><a href=\"/news/8776/nasa-insights-mole-is-out-of-sight/\" target=\"_self\">NASA InSight's 'Mole' Is Out of Sight</a></div>,\n",
       " <div class=\"content_title\"><a href=\"/news/8770/nasas-perseverance-rover-will-peer-beneath-mars-surface/\" target=\"_self\">NASA's Perseverance Rover Will Peer Beneath Mars' Surface </a></div>,\n",
       " <div class=\"content_title\"><a href=\"/news/8765/ai-is-helping-scientists-discover-fresh-craters-on-mars/\" target=\"_self\">AI Is Helping Scientists Discover Fresh Craters on Mars</a></div>,\n",
       " <div class=\"content_title\"><a href=\"/news/8762/nasas-new-mars-rover-is-ready-for-space-lasers/\" target=\"_self\">NASA's New Mars Rover Is Ready for Space Lasers</a></div>,\n",
       " <div class=\"content_title\"><a href=\"/news/8759/nasas-new-mars-rover-will-use-x-rays-to-hunt-fossils/\" target=\"_self\">NASA's New Mars Rover Will Use X-Rays to Hunt Fossils</a></div>,\n",
       " <div class=\"content_title\"><a href=\"/news/8756/my-culture-my-voice/\" target=\"_self\">My Culture, My Voice</a></div>,\n",
       " <div class=\"content_title\"><a href=\"/news/8749/nasa-readies-perseverance-mars-rovers-earthly-twin/\" target=\"_self\">NASA Readies Perseverance Mars Rover's Earthly Twin </a></div>,\n",
       " <div class=\"content_title\"><a href=\"/news/8744/nasa-engineers-checking-insights-weather-sensors/\" target=\"_self\">NASA Engineers Checking InSight's Weather Sensors</a></div>,\n",
       " <div class=\"content_title\"><a href=\"/news/8742/follow-nasas-perseverance-rover-in-real-time-on-its-way-to-mars/\" target=\"_self\">Follow NASA's Perseverance Rover in Real Time on Its Way to Mars</a></div>,\n",
       " <div class=\"content_title\"><a href=\"/news/8737/nasa-establishes-board-to-initially-review-mars-sample-return-plans/\" target=\"_self\">NASA Establishes Board to Initially Review Mars Sample Return Plans</a></div>,\n",
       " <div class=\"content_title\"><a href=\"/news/8736/nasas-ingenuity-mars-helicopter-recharges-its-batteries-in-flight/\" target=\"_self\">NASA's Ingenuity Mars Helicopter Recharges Its Batteries in Flight</a></div>,\n",
       " <div class=\"content_title\"><a href=\"/news/8735/celebrate-mars-reconnaissance-orbiters-views-from-above/\" target=\"_self\">Celebrate Mars Reconnaissance Orbiter's Views From Above</a></div>,\n",
       " <div class=\"content_title\"><a href=\"/news/8731/nasas-maven-observes-martian-night-sky-pulsing-in-ultraviolet-light/\" target=\"_self\">NASA's MAVEN Observes Martian Night Sky Pulsing in Ultraviolet Light</a></div>,\n",
       " <div class=\"content_title\">\n",
       " <a href=\"/news/8695/the-launch-is-approaching-for-nasas-next-mars-rover-perseverance/\">\n",
       " The Launch Is Approaching for NASA's Next Mars Rover, Perseverance\n",
       " </a>\n",
       " </div>,\n",
       " <div class=\"content_title\">\n",
       " <a href=\"/news/8692/nasa-to-hold-mars-2020-perseverance-rover-launch-briefing/\">\n",
       " NASA to Hold Mars 2020 Perseverance Rover Launch Briefing\n",
       " </a>\n",
       " </div>,\n",
       " <div class=\"content_title\">\n",
       " <a href=\"/news/8659/alabama-high-school-student-names-nasas-mars-helicopter/\">\n",
       " Alabama High School Student Names NASA's Mars Helicopter\n",
       " </a>\n",
       " </div>,\n",
       " <div class=\"content_title\">\n",
       " <a href=\"/news/8837/nasa-to-host-virtual-briefing-on-february-perseverance-mars-rover-landing/\">\n",
       " NASA to Host Virtual Briefing on February Perseverance Mars Rover Landing\n",
       " </a>\n",
       " </div>,\n",
       " <div class=\"content_title\">\n",
       " <a href=\"/news/8836/nasa-insights-mole-ends-its-journey-on-mars/\">\n",
       " NASA InSight's ‘Mole' Ends Its Journey on Mars\n",
       " </a>\n",
       " </div>,\n",
       " <div class=\"content_title\">\n",
       " <a href=\"/news/8716/nasa-to-broadcast-mars-2020-perseverance-launch-prelaunch-activities/\">\n",
       " NASA to Broadcast Mars 2020 Perseverance Launch, Prelaunch Activities\n",
       " </a>\n",
       " </div>,\n",
       " <div class=\"content_title\">\n",
       " <a href=\"/news/8695/the-launch-is-approaching-for-nasas-next-mars-rover-perseverance/\">\n",
       " The Launch Is Approaching for NASA's Next Mars Rover, Perseverance\n",
       " </a>\n",
       " </div>,\n",
       " <div class=\"content_title\">\n",
       " <a href=\"/news/8692/nasa-to-hold-mars-2020-perseverance-rover-launch-briefing/\">\n",
       " NASA to Hold Mars 2020 Perseverance Rover Launch Briefing\n",
       " </a>\n",
       " </div>,\n",
       " <div class=\"content_title\">\n",
       " <a href=\"/news/8659/alabama-high-school-student-names-nasas-mars-helicopter/\">\n",
       " Alabama High School Student Names NASA's Mars Helicopter\n",
       " </a>\n",
       " </div>,\n",
       " <div class=\"content_title\">\n",
       " <a href=\"/news/8837/nasa-to-host-virtual-briefing-on-february-perseverance-mars-rover-landing/\">\n",
       " NASA to Host Virtual Briefing on February Perseverance Mars Rover Landing\n",
       " </a>\n",
       " </div>,\n",
       " <div class=\"content_title\">\n",
       " <a href=\"/news/8836/nasa-insights-mole-ends-its-journey-on-mars/\">\n",
       " NASA InSight's ‘Mole' Ends Its Journey on Mars\n",
       " </a>\n",
       " </div>,\n",
       " <div class=\"content_title\">\n",
       " <a href=\"/news/8716/nasa-to-broadcast-mars-2020-perseverance-launch-prelaunch-activities/\">\n",
       " NASA to Broadcast Mars 2020 Perseverance Launch, Prelaunch Activities\n",
       " </a>\n",
       " </div>]"
      ]
     },
     "execution_count": 5,
     "metadata": {},
     "output_type": "execute_result"
    }
   ],
   "source": [
    "html = browser.html\n",
    "soup = BeautifulSoup(html, 'html.parser')"
   ]
  },
  {
   "cell_type": "code",
   "execution_count": 58,
   "metadata": {},
   "outputs": [
    {
     "data": {
      "text/plain": [
       "\"NASA's Perseverance Pays Off Back Home\""
      ]
     },
     "execution_count": 58,
     "metadata": {},
     "output_type": "execute_result"
    }
   ],
   "source": [
    "#Finding Title of Latest News Article\n",
    "title_test = soup.find_all('div', class_='bottom_gradient')\n",
    "title_f = title_test[0]\n",
    "news_title = title_f.find('h3').text.strip()\n",
    "news_title"
   ]
  },
  {
   "cell_type": "code",
   "execution_count": 57,
   "metadata": {},
   "outputs": [
    {
     "data": {
      "text/plain": [
       "'Even as the Perseverance rover approaches Mars, technology on board is paying off on Earth.'"
      ]
     },
     "execution_count": 57,
     "metadata": {},
     "output_type": "execute_result"
    }
   ],
   "source": [
    "#Finding Paragraph Description of Latest News Article\n",
    "para_test = soup.find_all('div', class_='rollover_description_inner')\n",
    "para_title = para_test[6].text.strip()\n",
    "para_title"
   ]
  },
  {
   "cell_type": "code",
   "execution_count": 59,
   "metadata": {},
   "outputs": [],
   "source": [
    "#JPL Featured Space Image\n",
    "url2 = \"https://www.jpl.nasa.gov/spaceimages/?search=&category=Mars\"\n",
    "browser.visit(url2)\n",
    "html = browser.html\n",
    "soup = BeautifulSoup(html, 'html.parser')"
   ]
  },
  {
   "cell_type": "code",
   "execution_count": 67,
   "metadata": {},
   "outputs": [
    {
     "data": {
      "text/plain": [
       "['<table border=\"0\" class=\"dataframe data table table-borderless\">\\n  <tbody>\\n    <tr>\\n      <td>Equatorial Diameter:</td>\\n      <td>6,792 km</td>\\n    </tr>\\n    <tr>\\n      <td>Polar Diameter:</td>\\n      <td>6,752 km</td>\\n    </tr>\\n    <tr>\\n      <td>Mass:</td>\\n      <td>6.39 × 10^23 kg (0.11 Earths)</td>\\n    </tr>\\n    <tr>\\n      <td>Moons:</td>\\n      <td>2 (Phobos &amp; Deimos)</td>\\n    </tr>\\n    <tr>\\n      <td>Orbit Distance:</td>\\n      <td>227,943,824 km (1.38 AU)</td>\\n    </tr>\\n    <tr>\\n      <td>Orbit Period:</td>\\n      <td>687 days (1.9 years)</td>\\n    </tr>\\n    <tr>\\n      <td>Surface Temperature:</td>\\n      <td>-87 to -5 °C</td>\\n    </tr>\\n    <tr>\\n      <td>First Record:</td>\\n      <td>2nd millennium BC</td>\\n    </tr>\\n    <tr>\\n      <td>Recorded By:</td>\\n      <td>Egyptian astronomers</td>\\n    </tr>\\n  </tbody>\\n</table>']"
      ]
     },
     "execution_count": 67,
     "metadata": {},
     "output_type": "execute_result"
    }
   ],
   "source": [
    "#Mars Facts Table\n",
    "import pandas as pd\n",
    "table_url =\"https://space-facts.com/mars/\"\n",
    "tables = pd.read_html(table_url)\n",
    "df = tables[0]\n",
    "mars_table_html = [df.to_html(classes='data table table-borderless', index=False, header=False, border=0)]\n",
    "mars_table_html"
   ]
  },
  {
   "cell_type": "code",
   "execution_count": 73,
   "metadata": {},
   "outputs": [
    {
     "data": {
      "text/plain": [
       "['Cerberus Hemisphere Enhanced',\n",
       " 'Schiaparelli Hemisphere Enhanced',\n",
       " 'Syrtis Major Hemisphere Enhanced',\n",
       " 'Valles Marineris Hemisphere Enhanced']"
      ]
     },
     "execution_count": 73,
     "metadata": {},
     "output_type": "execute_result"
    }
   ],
   "source": [
    "#Mars Hemispheres\n",
    "url_hem = \"https://astrogeology.usgs.gov/search/results?q=hemisphere+enhanced&k1=target&v1=Mars\"\n",
    "browser.visit(url_hem)\n",
    "html = browser.html\n",
    "soup = BeautifulSoup(html, 'html.parser')\n",
    "results = soup.find_all('div', class_='collapsible results')\n",
    "hems = results[0].find_all('h3')\n",
    "\n",
    "hem_names = []\n",
    "\n",
    "for hem in hems:\n",
    "    hem_names.append(hem.text)\n",
    "hem_names"
   ]
  },
  {
   "cell_type": "code",
   "execution_count": 91,
   "metadata": {},
   "outputs": [
    {
     "data": {
      "text/plain": [
       "['https://astrogeology.usgs.gov//cache/images/f5e372a36edfa389625da6d0cc25d905_cerberus_enhanced.tif_full.jpg',\n",
       " 'https://astrogeology.usgs.gov//cache/images/3778f7b43bbbc89d6e3cfabb3613ba93_schiaparelli_enhanced.tif_full.jpg',\n",
       " 'https://astrogeology.usgs.gov//cache/images/555e6403a6ddd7ba16ddb0e471cadcf7_syrtis_major_enhanced.tif_full.jpg',\n",
       " 'https://astrogeology.usgs.gov//cache/images/b3c7c6c9138f57b4756be9b9c43e3a48_valles_marineris_enhanced.tif_full.jpg']"
      ]
     },
     "execution_count": 91,
     "metadata": {},
     "output_type": "execute_result"
    }
   ],
   "source": [
    "#Mars Hemispheres Cont.\n",
    "url_hem = \"https://astrogeology.usgs.gov/search/results?q=hemisphere+enhanced&k1=target&v1=Mars\"\n",
    "browser.visit(url_hem)\n",
    "html = browser.html\n",
    "soup = BeautifulSoup(html, 'html.parser')\n",
    "results = soup.find_all('div', class_='collapsible results')\n",
    "\n",
    "thumb_results = results[0].find_all('a')\n",
    "thumb_links = []\n",
    "\n",
    "for thumb in thumb_results:\n",
    "    if (thumb.img):\n",
    "        thumb_url = \"https://astrogeology.usgs.gov/\" + thumb['href']\n",
    "        \n",
    "        thumb_links.append(thumb_url)\n",
    "\n",
    "full_img = []\n",
    "\n",
    "for link in thumb_links:\n",
    "    browser.visit(link)\n",
    "    html = browser.html\n",
    "    soup = BeautifulSoup(html, 'html.parser')\n",
    "    results2 = soup.find_all('img', class_='wide-image')\n",
    "    img_path = results2[0]['src']\n",
    "    img_link = \"https://astrogeology.usgs.gov/\" + img_path\n",
    "    \n",
    "    full_img.append(img_link)\n",
    "\n",
    "full_img"
   ]
  },
  {
   "cell_type": "code",
   "execution_count": 93,
   "metadata": {},
   "outputs": [
    {
     "data": {
      "text/plain": [
       "[{'title': 'Cerberus Hemisphere Enhanced',\n",
       "  'img_url': 'https://astrogeology.usgs.gov//cache/images/f5e372a36edfa389625da6d0cc25d905_cerberus_enhanced.tif_full.jpg'},\n",
       " {'title': 'Schiaparelli Hemisphere Enhanced',\n",
       "  'img_url': 'https://astrogeology.usgs.gov//cache/images/3778f7b43bbbc89d6e3cfabb3613ba93_schiaparelli_enhanced.tif_full.jpg'},\n",
       " {'title': 'Syrtis Major Hemisphere Enhanced',\n",
       "  'img_url': 'https://astrogeology.usgs.gov//cache/images/555e6403a6ddd7ba16ddb0e471cadcf7_syrtis_major_enhanced.tif_full.jpg'},\n",
       " {'title': 'Valles Marineris Hemisphere Enhanced',\n",
       "  'img_url': 'https://astrogeology.usgs.gov//cache/images/b3c7c6c9138f57b4756be9b9c43e3a48_valles_marineris_enhanced.tif_full.jpg'}]"
      ]
     },
     "execution_count": 93,
     "metadata": {},
     "output_type": "execute_result"
    }
   ],
   "source": [
    "#Mars Dictionary\n",
    "hem_zip = zip(hem_names, full_img)\n",
    "\n",
    "hem_img_url_list = []\n",
    "\n",
    "for title, img in hem_zip:\n",
    "    hem_dic = {}\n",
    "    hem_dic['title'] = title\n",
    "    hem_dic['img_url'] = img\n",
    "    hem_img_url_list.append(hem_dic)\n",
    "\n",
    "hem_img_url_list"
   ]
  },
  {
   "cell_type": "code",
   "execution_count": null,
   "metadata": {},
   "outputs": [],
   "source": []
  }
 ],
 "metadata": {
  "kernelspec": {
   "display_name": "MyPythonEnv",
   "language": "python",
   "name": "mypythonenv"
  },
  "language_info": {
   "codemirror_mode": {
    "name": "ipython",
    "version": 3
   },
   "file_extension": ".py",
   "mimetype": "text/x-python",
   "name": "python",
   "nbconvert_exporter": "python",
   "pygments_lexer": "ipython3",
   "version": "3.8.3"
  }
 },
 "nbformat": 4,
 "nbformat_minor": 4
}
